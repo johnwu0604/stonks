{
 "cells": [
  {
   "cell_type": "code",
   "execution_count": 2,
   "metadata": {},
   "outputs": [],
   "source": [
    "from os.path import dirname, join\n",
    "import yfinance as yf\n",
    "import re\n",
    "import json"
   ]
  },
  {
   "cell_type": "code",
   "execution_count": 3,
   "metadata": {},
   "outputs": [
    {
     "ename": "NameError",
     "evalue": "name '__file__' is not defined",
     "output_type": "error",
     "traceback": [
      "\u001b[1;31m---------------------------------------------------------------------------\u001b[0m",
      "\u001b[1;31mNameError\u001b[0m                                 Traceback (most recent call last)",
      "\u001b[1;32m<ipython-input-3-405bd810ce37>\u001b[0m in \u001b[0;36m<module>\u001b[1;34m\u001b[0m\n\u001b[1;32m----> 1\u001b[1;33m \u001b[0mcurrent_dir\u001b[0m \u001b[1;33m=\u001b[0m \u001b[0mdirname\u001b[0m\u001b[1;33m(\u001b[0m\u001b[0m__file__\u001b[0m\u001b[1;33m)\u001b[0m\u001b[1;33m\u001b[0m\u001b[1;33m\u001b[0m\u001b[0m\n\u001b[0m\u001b[0;32m      2\u001b[0m \u001b[0mdata\u001b[0m \u001b[1;33m=\u001b[0m \u001b[1;33m[\u001b[0m\u001b[1;33m]\u001b[0m\u001b[1;33m\u001b[0m\u001b[1;33m\u001b[0m\u001b[0m\n",
      "\u001b[1;31mNameError\u001b[0m: name '__file__' is not defined"
     ]
    }
   ],
   "source": [
    "current_dir = dirname(__file__)\n",
    "data = []"
   ]
  },
  {
   "cell_type": "code",
   "execution_count": 5,
   "metadata": {},
   "outputs": [],
   "source": [
    "ticker = yf.Ticker('MSFT')"
   ]
  },
  {
   "cell_type": "code",
   "execution_count": 15,
   "metadata": {},
   "outputs": [
    {
     "data": {
      "text/plain": [
       "'MSFT'"
      ]
     },
     "execution_count": 15,
     "metadata": {},
     "output_type": "execute_result"
    }
   ],
   "source": [
    "ticker.info['symbol']"
   ]
  },
  {
   "cell_type": "code",
   "execution_count": null,
   "metadata": {},
   "outputs": [],
   "source": [
    "tickers_file = join(current_dir, \"./tickers.csv\")\n",
    "with open(tickers_file, 'r') as f:\n",
    "    for line in f:\n",
    "        symbol = re.sub(r\"[\\n\\t\\s]*\", \"\", line)\n",
    "    f.close()"
   ]
  },
  {
   "cell_type": "code",
   "execution_count": 9,
   "metadata": {},
   "outputs": [],
   "source": [
    "import yfinance as yf\n",
    "import re\n",
    "\n",
    "tickers = yf.Tickers('msft aapl goog ')"
   ]
  },
  {
   "cell_type": "code",
   "execution_count": 12,
   "metadata": {},
   "outputs": [],
   "source": [
    "symbols = ''\n",
    "with open('tickers.csv', 'r') as f:\n",
    "    for line in f:\n",
    "        s = re.sub(r\"[\\n\\t\\s]*\", \"\", line)\n",
    "        symbols += s\n",
    "        symbols += ' '\n",
    "    f.close()"
   ]
  },
  {
   "cell_type": "code",
   "execution_count": 10,
   "metadata": {},
   "outputs": [],
   "source": [
    "data = []\n",
    "\n",
    "for key, value in tickers.tickers.items():\n",
    "    \n",
    "    data.append({\n",
    "        'symbol': value.info['symbol'],\n",
    "        'shortName': value.info['shortName'],\n",
    "        'currentPrice': value.info['currentPrice'],\n",
    "        'fiftyTwoWeekHigh': value.info['fiftyTwoWeekHigh'],\n",
    "        'fiftyTwoWeekLow': value.info['fiftyTwoWeekLow'],\n",
    "        'fiveYearAvgDividendYield': value.info['fiveYearAvgDividendYield'],\n",
    "        'averageDailyVolume10Day': value.info['averageDailyVolume10Day'],\n",
    "        'ebitdaMargins': value.info['ebitdaMargins'],\n",
    "        'profitMargins': value.info['profitMargins'],\n",
    "        'recommendationKey': value.info['recommendationKey'],\n",
    "        'debtToEquity': value.info['debtToEquity'],\n",
    "        'fiftyTwoWeekChange': value.info['52WeekChange'],\n",
    "        'dividendYield': value.info['dividendYield'],\n",
    "        'quickRatio': value.info['quickRatio'],\n",
    "        'currentRatio': value.info['currentRatio'],\n",
    "        'revenuePerShare': value.info['revenuePerShare'],\n",
    "        'forwardEps': value.info['forwardEps'],\n",
    "        'forwardPE': value.info['forwardPE'],\n",
    "        'marketCap': value.info['marketCap']\n",
    "    })"
   ]
  },
  {
   "cell_type": "code",
   "execution_count": 11,
   "metadata": {},
   "outputs": [],
   "source": [
    "import json\n",
    "with open('data.json', 'w') as fp:\n",
    "    json.dump(data, fp, indent=4)"
   ]
  },
  {
   "cell_type": "code",
   "execution_count": null,
   "metadata": {},
   "outputs": [],
   "source": []
  }
 ],
 "metadata": {
  "kernelspec": {
   "display_name": "stonks",
   "language": "python",
   "name": "stonks"
  },
  "language_info": {
   "codemirror_mode": {
    "name": "ipython",
    "version": 3
   },
   "file_extension": ".py",
   "mimetype": "text/x-python",
   "name": "python",
   "nbconvert_exporter": "python",
   "pygments_lexer": "ipython3",
   "version": "3.7.9"
  }
 },
 "nbformat": 4,
 "nbformat_minor": 4
}
